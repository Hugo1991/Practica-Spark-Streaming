{
 "cells": [
  {
   "cell_type": "code",
   "execution_count": null,
   "metadata": {
    "collapsed": false
   },
   "outputs": [],
   "source": [
    "# Importación de dependencias y funciones\n",
    "import findspark\n",
    "findspark.init(\"/media/hugo/Datos/Linux/spark/\")\n",
    "\n",
    "import pyspark\n",
    "from pyspark.sql import SparkSession\n",
    "\n",
    "spark = (SparkSession.builder\n",
    "    .master(\"local[*]\")\n",
    "    .config(\"spark.driver.cores\", 1)\n",
    "    .appName(\"understanding_sparksession\")\n",
    "    .getOrCreate() )\n",
    "\n",
    "from __future__ import print_function\n",
    "from pyspark.streaming import StreamingContext\n",
    "from pyspark.streaming.kafka import KafkaUtils\n",
    "\n",
    "from operator import add\n",
    "from operator import sub\n",
    "sc = spark.sparkContext\n",
    "# Crear el contexto de Spark Streaming\n",
    "ssc = StreamingContext(sc, 5)\n",
    "\n",
    "# Configura el endpoint para localizar el broker de Kafka\n",
    "# kafkaBrokerIPPort = \"172.20.1.21:9092\"\n",
    "kafkaBrokerIPPort = \"127.0.0.1:9092\"\n",
    "\n",
    "# Productor simple (Singleton!)\n",
    "# from kafka import KafkaProducer\n"
   ]
  },
  {
   "cell_type": "code",
   "execution_count": null,
   "metadata": {
    "collapsed": false
   },
   "outputs": [],
   "source": [
    "import kafka\n",
    "class KafkaProducerWrapper(object):\n",
    "  producer = None\n",
    "  @staticmethod\n",
    "  def getProducer(brokerList):\n",
    "    if KafkaProducerWrapper.producer != None:\n",
    "      return KafkaProducerWrapper.producer\n",
    "    else:\n",
    "      KafkaProducerWrapper.producer = kafka.KafkaProducer(bootstrap_servers=brokerList, key_serializer=str.encode, value_serializer=str.encode)\n",
    "      return KafkaProducerWrapper.producer\n",
    "\n",
    "# Envía métricas a Kafka! (salida)\n",
    "def sendMetrics(itr):\n",
    "  prod = KafkaProducerWrapper.getProducer([kafkaBrokerIPPort])\n",
    "  for m in itr:\n",
    "    prod.send(\"metrics\", key=m[0], value=m[0]+\",\"+str(m[1]))\n",
    "  prod.flush()\n",
    "\n",
    "stream = KafkaUtils.createDirectStream(ssc, [\"Quatar_GP_2014\"], kafkaParams)\n",
    "kafkaParams = {\"metadata.broker.list\": kafkaBrokerIPPort}\n",
    "def parseLine(line):\n",
    "  s = line.split(\"\\t\")\n",
    "  try:\n",
    "    return [{\"Id\": s[0], \"Body\": (s[6]), \"Type\": s[9],\"Mentions\":s[3]}]\n",
    "  except Exception as err:\n",
    "      print(\"Wrong line format (%s): \" % line)\n",
    "      return []\n",
    "lines = stream.map(lambda data: str(data[1]))\n"
   ]
  },
  {
   "cell_type": "code",
   "execution_count": null,
   "metadata": {
    "collapsed": true
   },
   "outputs": [],
   "source": [
    "orders = lines.flatMap(parseLine).map(lambda pos:pos['Mentions'].split(\",\")).filter(lambda mention:mention!=\"\").reduceByKey(lambda a,b:a+b)\n",
    "#numPerType = orders.map(lambda o: (o['Mentions'], 1)).filter(lambda o:o['Mentions']!=None).reduceByKey(add)\n",
    "orders.repartition(1).saveAsTextFiles(\"data/output\", \"txt\")\n",
    "orders.pprint()\n",
    "ssc.start()"
   ]
  },
  {
   "cell_type": "code",
   "execution_count": null,
   "metadata": {
    "collapsed": true
   },
   "outputs": [],
   "source": [
    "orders = lines.flatMap(parseLine).map(lambda pos:pos['Body'].split(\" \")).filter(lambda word:word.startsWith(\"#\")).map(lambda hastag:(hastag,1).updateStateByKey(lambda vals, totalOpt: sum(vals)+totalOpt if totalOpt != None else sum(vals)).sortBy(lambda x:-x[1])transform(lambda x:x)\n",
    "orders.pprint()"
   ]
  },
  {
   "cell_type": "code",
   "execution_count": null,
   "metadata": {
    "collapsed": true
   },
   "outputs": [],
   "source": [
    "orders=lines.flatMap(parseLine).map(lambda pos:pos['Type']).countByValueAndWindow(20,10)\n",
    "orders.pprint()"
   ]
  },
  {
   "cell_type": "code",
   "execution_count": null,
   "metadata": {
    "collapsed": false
   },
   "outputs": [],
   "source": [
    "ssc.stop()"
   ]
  }
 ],
 "metadata": {
  "anaconda-cloud": {},
  "kernelspec": {
   "display_name": "Python [conda root]",
   "language": "python",
   "name": "conda-root-py"
  },
  "language_info": {
   "codemirror_mode": {
    "name": "ipython",
    "version": 3
   },
   "file_extension": ".py",
   "mimetype": "text/x-python",
   "name": "python",
   "nbconvert_exporter": "python",
   "pygments_lexer": "ipython3",
   "version": "3.5.2"
  }
 },
 "nbformat": 4,
 "nbformat_minor": 1
}
